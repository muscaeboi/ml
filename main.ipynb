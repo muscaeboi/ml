{
  "cells": [
    {
      "cell_type": "code",
      "execution_count": 2,
      "metadata": {
        "id": "LHmsULJmsGTu"
      },
      "outputs": [],
      "source": [
        "import network\n",
        "import mnist_loader"
      ]
    },
    {
      "cell_type": "code",
      "execution_count": 3,
      "metadata": {},
      "outputs": [],
      "source": [
        "# create a network\n",
        "net = network.Network([784, 16, 16, 10])"
      ]
    },
    {
      "cell_type": "code",
      "execution_count": 5,
      "metadata": {},
      "outputs": [],
      "source": [
        "# load the data\n",
        "training_data, validation_data, test_data = mnist_loader.load_data_wrapper()"
      ]
    },
    {
      "cell_type": "code",
      "execution_count": 6,
      "metadata": {},
      "outputs": [
        {
          "name": "stdout",
          "output_type": "stream",
          "text": [
            "Epoch 0: 8843 / 10000\n",
            "Epoch 1: 9049 / 10000\n",
            "Epoch 2: 9059 / 10000\n",
            "Epoch 3: 9238 / 10000\n",
            "Epoch 4: 9211 / 10000\n",
            "Epoch 5: 9308 / 10000\n",
            "Epoch 6: 9274 / 10000\n",
            "Epoch 7: 9308 / 10000\n",
            "Epoch 8: 9291 / 10000\n",
            "Epoch 9: 9310 / 10000\n",
            "Epoch 10: 9290 / 10000\n",
            "Epoch 11: 9311 / 10000\n",
            "Epoch 12: 9285 / 10000\n",
            "Epoch 13: 9355 / 10000\n",
            "Epoch 14: 9328 / 10000\n",
            "Epoch 15: 9347 / 10000\n",
            "Epoch 16: 9329 / 10000\n",
            "Epoch 17: 9334 / 10000\n",
            "Epoch 18: 9310 / 10000\n",
            "Epoch 19: 9369 / 10000\n",
            "Epoch 20: 9340 / 10000\n",
            "Epoch 21: 9352 / 10000\n",
            "Epoch 22: 9338 / 10000\n",
            "Epoch 23: 9336 / 10000\n",
            "Epoch 24: 9376 / 10000\n",
            "Epoch 25: 9333 / 10000\n",
            "Epoch 26: 9345 / 10000\n",
            "Epoch 27: 9378 / 10000\n",
            "Epoch 28: 9381 / 10000\n",
            "Epoch 29: 9364 / 10000\n"
          ]
        }
      ],
      "source": [
        "# train the network\n",
        "net.train(training_data, epochs=30, mini_batch_size=10, eta=3.0, test_data=test_data)"
      ]
    },
    {
      "cell_type": "code",
      "execution_count": 7,
      "metadata": {},
      "outputs": [],
      "source": [
        "# Save the trained model\n",
        "net.save(\"trained_network.pkl\")"
      ]
    }
  ],
  "metadata": {
    "colab": {
      "provenance": []
    },
    "kernelspec": {
      "display_name": "base",
      "language": "python",
      "name": "python3"
    },
    "language_info": {
      "codemirror_mode": {
        "name": "ipython",
        "version": 3
      },
      "file_extension": ".py",
      "mimetype": "text/x-python",
      "name": "python",
      "nbconvert_exporter": "python",
      "pygments_lexer": "ipython3",
      "version": "3.8.5"
    }
  },
  "nbformat": 4,
  "nbformat_minor": 0
}
